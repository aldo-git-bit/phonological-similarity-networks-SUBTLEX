{
  "nbformat": 4,
  "nbformat_minor": 0,
  "metadata": {
    "colab": {
      "provenance": []
    },
    "kernelspec": {
      "name": "python3",
      "display_name": "Python 3"
    },
    "language_info": {
      "name": "python"
    }
  },
  "cells": [
    {
      "cell_type": "markdown",
      "source": [
        "### **Python notebook for getting clustering coefficient values for given words**\n",
        "Needed files: 1) xlsx spreadsheet with your words in column one headed by 'Word', 2) an adjlist\n",
        "\n",
        "Examples: see Test files for examples of files that will work with this script"
      ],
      "metadata": {
        "id": "YrrRf739MUQ9"
      }
    },
    {
      "cell_type": "code",
      "execution_count": 1,
      "metadata": {
        "id": "NOTshh4fWj9a"
      },
      "outputs": [],
      "source": [
        "# import modules\n",
        "\n",
        "import networkx as nx\n",
        "import pandas as pd\n",
        "import openpyxl"
      ]
    },
    {
      "cell_type": "code",
      "source": [
        "# load data\n",
        "y = 2\n",
        "# use filename variable if using many adjlists\n",
        "# filename = input(\"Enter the path of your word list: \")\n",
        "words = input(\"Enter the path of your xlsx word list: \")\n",
        "\n",
        "# enter file of your adjlist - might need to edit below\n",
        "graph = nx.read_adjlist('validate-lemma_words19839.adjlist')\n",
        "# graph = nx.read_adjlist(filename)"
      ],
      "metadata": {
        "id": "eVFU8AXcXAaq",
        "colab": {
          "base_uri": "https://localhost:8080/"
        },
        "outputId": "6a13519a-5dfc-4335-da6a-24ea4e916883"
      },
      "execution_count": 2,
      "outputs": [
        {
          "name": "stdout",
          "output_type": "stream",
          "text": [
            "Enter the path of your xlsx word list: cc_chanVitevitch2010.xlsx\n"
          ]
        }
      ]
    },
    {
      "cell_type": "code",
      "source": [
        "# calculate clustering coefficients, output to Analyze-FILENAME xlsx\n",
        "excel_file = pd.read_excel(words)\n",
        "new_excel_file = excel_file\n",
        "new_excel_file.to_excel(f'Analyze-{words}', index = True, header = True)\n",
        "workbook = openpyxl.load_workbook(f'Analyze-{words}')\n",
        "worksheet_M = workbook.worksheets[0]\n",
        "worksheet_M.insert_cols(3)\n",
        "cell_title_M = worksheet_M.cell(row = 1, column = 3)\n",
        "cell_title_M.value = \"Clustering C\"\n",
        "\n",
        "df = pd.read_excel(f'Analyze-{words}')\n",
        "\n",
        "y = 2\n",
        "for i in range(len(df['Word'])):\n",
        "    if str(df['Word'][i]).strip().lower() in graph.nodes():\n",
        "        cell_to_write = worksheet_M.cell(row=y, column=3)\n",
        "        cell_to_write.value = nx.clustering(graph, str(df['Word'][i]).strip().lower())\n",
        "        y += 1\n",
        "\n",
        "    elif str(df['Word'][i]).strip() in graph.nodes():\n",
        "        cell_to_write = worksheet_M.cell(row=y, column=3)\n",
        "        cell_to_write.value = nx.clustering(graph, str(df['Word'][i]).strip())\n",
        "        y += 1\n",
        "\n",
        "    else:\n",
        "        cell_to_write = worksheet_M.cell(row=y, column=3)\n",
        "        cell_to_write.value = \"N/A\"\n",
        "        y += 1\n",
        "\n",
        "workbook.save(f'Analyze-{words}')"
      ],
      "metadata": {
        "id": "evpxlMw2XMVS"
      },
      "execution_count": 3,
      "outputs": []
    }
  ]
}