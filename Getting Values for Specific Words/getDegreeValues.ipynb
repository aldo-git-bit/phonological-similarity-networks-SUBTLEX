{
  "nbformat": 4,
  "nbformat_minor": 0,
  "metadata": {
    "colab": {
      "provenance": []
    },
    "kernelspec": {
      "name": "python3",
      "display_name": "Python 3"
    },
    "language_info": {
      "name": "python"
    }
  },
  "cells": [
    {
      "cell_type": "markdown",
      "source": [
        "### **Python notebook for getting degree values for given words**\n",
        "Needed files: 1) xlsx spreadsheet with your words in column one headed by 'Word', 2) an adjlist\n",
        "\n",
        "Examples: see Test files for examples of files that will work with this script\n",
        "\n"
      ],
      "metadata": {
        "id": "l78eCTVTLbgQ"
      }
    },
    {
      "cell_type": "code",
      "source": [
        "# import modules\n",
        "import networkx as nx\n",
        "import pandas as pd\n",
        "import openpyxl"
      ],
      "metadata": {
        "id": "YBO5xVN1LdAq"
      },
      "execution_count": null,
      "outputs": []
    },
    {
      "cell_type": "code",
      "source": [
        "# load data\n",
        "y = 2\n",
        "# filename = input(\"Enter the path of your word list list: \")\n",
        "words = input(\"Enter the path of your xlsx word list: \")\n",
        "# need adjlist in working directory; replace if needed\n",
        "graph = nx.read_adjlist('validate-lemma_words19839.adjlist')"
      ],
      "metadata": {
        "colab": {
          "base_uri": "https://localhost:8080/"
        },
        "id": "FHsOhesItFPE",
        "outputId": "a4f20c99-2468-4428-9853-957e3314b681"
      },
      "execution_count": null,
      "outputs": [
        {
          "name": "stdout",
          "output_type": "stream",
          "text": [
            "Enter the path of your xlsx word list: degree_chanVitevitch2015E1.xlsx\n"
          ]
        }
      ]
    },
    {
      "cell_type": "code",
      "source": [
        "# get degree values, output new xlsx 'Analyze-FILENAME'\n",
        "excel_file = pd.read_excel(words)\n",
        "new_excel_file = excel_file\n",
        "new_excel_file.to_excel(f'Analyze-{words}', index = True, header = True)\n",
        "workbook = openpyxl.load_workbook(f'Analyze-{words}')\n",
        "worksheet_M = workbook.worksheets[0]\n",
        "worksheet_M.insert_cols(3)\n",
        "cell_title_M = worksheet_M.cell(row = 1, column = 3)\n",
        "cell_title_M.value = \"Degree\"\n",
        "\n",
        "df = pd.read_excel(f'Analyze-{words}')\n",
        "\n",
        "for i in range(len(df['Word'])):\n",
        "    if str(df['Word'][i]).strip().lower() in graph.nodes():\n",
        "        cell_to_write = worksheet_M.cell(row = y, column = 3)\n",
        "        cell_to_write.value = graph.degree(str(df['Word'][i]).strip().lower())\n",
        "        y += 1\n",
        "\n",
        "    elif str(df['Word'][i]).strip() in graph.nodes():\n",
        "        cell_to_write = worksheet_M.cell(row = y, column = 3)\n",
        "        cell_to_write.value = graph.degree(str(df['Word'][i]).strip())\n",
        "        y += 1\n",
        "\n",
        "    else:\n",
        "        cell_to_write = worksheet_M.cell(row = y, column = 3)\n",
        "        cell_to_write.value = \"N/A\"\n",
        "        y += 1\n",
        "\n",
        "workbook.save(f'Analyze-{words}')"
      ],
      "metadata": {
        "id": "sZH2zdKQtO9D"
      },
      "execution_count": null,
      "outputs": []
    },
    {
      "cell_type": "code",
      "source": [],
      "metadata": {
        "id": "4hb8bglgtLIX"
      },
      "execution_count": null,
      "outputs": []
    }
  ]
}